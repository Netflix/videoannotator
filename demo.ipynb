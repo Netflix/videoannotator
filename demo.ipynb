{
 "cells": [
  {
   "attachments": {},
   "cell_type": "markdown",
   "id": "f9ecf656-36e9-428f-b8a4-020b90f2486e",
   "metadata": {},
   "source": [
    "# Video Annotator\n",
    "## Video understanding demo\n",
    "\n",
    "**Note**:\n",
    "- read the `data` section of the README first.\n",
    "- this notebook assumes that you have already\n",
    "    - downloaded data\n",
    "    - placed it in the directory expected by `videoannotator/config.py`"
   ]
  },
  {
   "cell_type": "code",
   "execution_count": 18,
   "id": "c2f837a9-84d9-4f93-abda-670e59b2a89a",
   "metadata": {
    "execution": {
     "iopub.execute_input": "2024-04-24T16:17:53.477481Z",
     "iopub.status.busy": "2024-04-24T16:17:53.476871Z",
     "iopub.status.idle": "2024-04-24T16:17:53.480312Z",
     "shell.execute_reply": "2024-04-24T16:17:53.479816Z",
     "shell.execute_reply.started": "2024-04-24T16:17:53.477452Z"
    }
   },
   "outputs": [],
   "source": [
    "import json\n",
    "import numpy as np\n",
    "import pandas as pd\n",
    "from IPython.display import HTML\n",
    "\n",
    "from videoannotator import data, models, io, config as cfg"
   ]
  },
  {
   "attachments": {},
   "cell_type": "markdown",
   "id": "22adfc3e-63ad-41b4-a50f-44a9c58a0158",
   "metadata": {},
   "source": [
    "## helpers"
   ]
  },
  {
   "cell_type": "code",
   "execution_count": 19,
   "id": "4c9e40ed-3a7b-41f2-a8d7-c7f365978031",
   "metadata": {
    "execution": {
     "iopub.execute_input": "2024-04-24T16:17:54.134269Z",
     "iopub.status.busy": "2024-04-24T16:17:54.133652Z",
     "iopub.status.idle": "2024-04-24T16:17:54.139614Z",
     "shell.execute_reply": "2024-04-24T16:17:54.139129Z",
     "shell.execute_reply.started": "2024-04-24T16:17:54.134241Z"
    }
   },
   "outputs": [],
   "source": [
    "def get_model(label: str) -> models.LogisticRegression:\n",
    "    \"\"\"\n",
    "    Trains a model given all the aggregated annotations for `label`.\n",
    "    \"\"\"\n",
    "    ds = data.get_aggregate_labeled_dataset(label=label)\n",
    "    clf = models.LogisticRegression(scoring='average_precision')\n",
    "    clf.fit(ds.x, ds.y)\n",
    "    return clf\n",
    "\n",
    "def get_score(label: str, key: str) -> float:\n",
    "    \"\"\"\n",
    "    Get classification score for `label` against shot `key`.\n",
    "    \"\"\"\n",
    "    if label not in clfs:\n",
    "        clfs[label] = get_model(label=label)\n",
    "    emb = data.get_embeddings_dict()[key]\n",
    "    return clfs[label].predict_proba(emb[None, :]).item()\n",
    "\n",
    "def get_score_all_labels(key: str) -> dict:\n",
    "    \"\"\"\n",
    "    Scores all labels against the shot represented by `key`.\n",
    "    \"\"\"\n",
    "    return {label: get_score(label=label, key=key) for label in cfg.LABELS}\n",
    "\n",
    "def get_color(val: float) -> str:\n",
    "    \"\"\"Used for table cell formatting.\"\"\"\n",
    "    if val > 0.5:\n",
    "        r, g = 0, 128\n",
    "        a = val\n",
    "    else:\n",
    "        r, g = 255, 0\n",
    "        a = 1 - val\n",
    "    return f'color: rgba({r}, {g}, 0, {a})'"
   ]
  },
  {
   "attachments": {},
   "cell_type": "markdown",
   "id": "b820a5d4-9938-4138-8bea-5c08efa96d2b",
   "metadata": {},
   "source": [
    "## load a few models"
   ]
  },
  {
   "cell_type": "code",
   "execution_count": 40,
   "id": "1e4e3a8a-0e02-49f5-9926-649b51cb0c55",
   "metadata": {
    "execution": {
     "iopub.execute_input": "2024-04-24T16:32:42.113540Z",
     "iopub.status.busy": "2024-04-24T16:32:42.112924Z",
     "iopub.status.idle": "2024-04-24T16:32:47.059614Z",
     "shell.execute_reply": "2024-04-24T16:32:47.058607Z",
     "shell.execute_reply.started": "2024-04-24T16:32:42.113512Z"
    }
   },
   "outputs": [],
   "source": [
    "labels = ('action', 'establishing-shots', 'day', 'car-chase')\n",
    "clfs = {label: get_model(label=label) for label in labels}"
   ]
  },
  {
   "cell_type": "code",
   "execution_count": 21,
   "id": "27467ee9-092f-4276-a0fc-184ed09908ab",
   "metadata": {
    "execution": {
     "iopub.execute_input": "2024-04-24T16:17:59.821195Z",
     "iopub.status.busy": "2024-04-24T16:17:59.820774Z",
     "iopub.status.idle": "2024-04-24T16:17:59.828819Z",
     "shell.execute_reply": "2024-04-24T16:17:59.828144Z",
     "shell.execute_reply.started": "2024-04-24T16:17:59.821153Z"
    }
   },
   "outputs": [
    {
     "data": {
      "text/plain": [
       "'action, aerial, alcohol, anger, animal, car-chase, character-focus, closeup, cowboy-shot, day, drama, drugs, dutch-angle, establishing-shots, extreme-close-up, extreme-wide-shot, eye-level, fantasy, fight, golden-hour, gore, group-shot, handheld, happy, high-angle, horror, insert-shot, interior, interview, intimacy, jump-scare, laughter, low-angle, medium, nudity, object, over-the-shoulder-shot, overhead-shot, pan, point-of-view-shot, romance, run, sad, scared, sci-fi, shutter-shot, single-shot, slow-motion, smoking, static-shot, tilt-shot, timelapse, two-shot, violence, wide, zoom'"
      ]
     },
     "execution_count": 21,
     "metadata": {},
     "output_type": "execute_result"
    }
   ],
   "source": [
    "# the full set of available labels is at cfg.LABELS\n",
    "', '.join(sorted(cfg.LABELS))"
   ]
  },
  {
   "attachments": {},
   "cell_type": "markdown",
   "id": "16126115-6539-4825-b758-c072ad2c0a60",
   "metadata": {},
   "source": [
    "## load a few sample embeddings"
   ]
  },
  {
   "cell_type": "code",
   "execution_count": 22,
   "id": "fa0bdfeb-3564-48a1-bca3-bd23f2eb3831",
   "metadata": {
    "execution": {
     "iopub.execute_input": "2024-04-24T16:17:59.830507Z",
     "iopub.status.busy": "2024-04-24T16:17:59.829997Z",
     "iopub.status.idle": "2024-04-24T16:18:00.025539Z",
     "shell.execute_reply": "2024-04-24T16:18:00.025006Z",
     "shell.execute_reply.started": "2024-04-24T16:17:59.830469Z"
    }
   },
   "outputs": [],
   "source": [
    "samples = json.load(open('sample-embeddings.json'))\n",
    "samples = {k: np.array(v) for k, v in samples.items()}"
   ]
  },
  {
   "attachments": {},
   "cell_type": "markdown",
   "id": "1644163e-f1e7-4771-9025-2bff678820c8",
   "metadata": {},
   "source": [
    "## score the sample embeddings"
   ]
  },
  {
   "cell_type": "code",
   "execution_count": 41,
   "id": "0b0c6702-edca-47e4-93b6-1f5044556f86",
   "metadata": {
    "execution": {
     "iopub.execute_input": "2024-04-24T16:32:47.066975Z",
     "iopub.status.busy": "2024-04-24T16:32:47.064680Z",
     "iopub.status.idle": "2024-04-24T16:32:47.073915Z",
     "shell.execute_reply": "2024-04-24T16:32:47.073259Z",
     "shell.execute_reply.started": "2024-04-24T16:32:47.066931Z"
    }
   },
   "outputs": [],
   "source": [
    "def _get_record(title, emb):\n",
    "    d = dict(\n",
    "        title=title,\n",
    "        video_thumbnail=f'<img src=\"images/{pngs[title]}\">',\n",
    "    )\n",
    "    scores = {\n",
    "        f'{label}_score': clf.predict_proba(emb[None, :]).item()\n",
    "        for label, clf in clfs.items()\n",
    "    }\n",
    "    return {**d, **scores}"
   ]
  },
  {
   "cell_type": "code",
   "execution_count": 42,
   "id": "a7c2a338-9d7a-49b8-8f7d-1ab9dea66930",
   "metadata": {
    "execution": {
     "iopub.execute_input": "2024-04-24T16:32:47.076581Z",
     "iopub.status.busy": "2024-04-24T16:32:47.076044Z",
     "iopub.status.idle": "2024-04-24T16:32:47.296071Z",
     "shell.execute_reply": "2024-04-24T16:32:47.295541Z",
     "shell.execute_reply.started": "2024-04-24T16:32:47.076544Z"
    }
   },
   "outputs": [
    {
     "data": {
      "text/html": [
       "<style type=\"text/css\">\n",
       "#T_34162_row0_col0 {\n",
       "  color: rgba(255, 0, 0, 0.8220726934048999);\n",
       "}\n",
       "#T_34162_row0_col1 {\n",
       "  color: rgba(0, 128, 0, 0.9908751994956614);\n",
       "}\n",
       "#T_34162_row0_col2 {\n",
       "  color: rgba(0, 128, 0, 0.8437801576405295);\n",
       "}\n",
       "#T_34162_row0_col3 {\n",
       "  color: rgba(255, 0, 0, 0.987975328667453);\n",
       "}\n",
       "#T_34162_row1_col0 {\n",
       "  color: rgba(0, 128, 0, 0.7303418638540495);\n",
       "}\n",
       "#T_34162_row1_col1 {\n",
       "  color: rgba(255, 0, 0, 0.7022522742513788);\n",
       "}\n",
       "#T_34162_row1_col2 {\n",
       "  color: rgba(0, 128, 0, 0.6940565169087026);\n",
       "}\n",
       "#T_34162_row1_col3 {\n",
       "  color: rgba(0, 128, 0, 0.7834914093873131);\n",
       "}\n",
       "#T_34162_row2_col0 {\n",
       "  color: rgba(255, 0, 0, 0.6398846209491738);\n",
       "}\n",
       "#T_34162_row2_col1 {\n",
       "  color: rgba(255, 0, 0, 0.8751938534998622);\n",
       "}\n",
       "#T_34162_row2_col2 {\n",
       "  color: rgba(255, 0, 0, 0.8868226535243505);\n",
       "}\n",
       "#T_34162_row2_col3 {\n",
       "  color: rgba(255, 0, 0, 0.9642818777582188);\n",
       "}\n",
       "</style>\n",
       "<table id=\"T_34162\">\n",
       "  <thead>\n",
       "    <tr>\n",
       "      <th class=\"blank\" >&nbsp;</th>\n",
       "      <th class=\"blank level0\" >&nbsp;</th>\n",
       "      <th id=\"T_34162_level0_col0\" class=\"col_heading level0 col0\" >action_score</th>\n",
       "      <th id=\"T_34162_level0_col1\" class=\"col_heading level0 col1\" >establishing-shots_score</th>\n",
       "      <th id=\"T_34162_level0_col2\" class=\"col_heading level0 col2\" >day_score</th>\n",
       "      <th id=\"T_34162_level0_col3\" class=\"col_heading level0 col3\" >car-chase_score</th>\n",
       "    </tr>\n",
       "    <tr>\n",
       "      <th class=\"index_name level0\" >title</th>\n",
       "      <th class=\"index_name level1\" >video_thumbnail</th>\n",
       "      <th class=\"blank col0\" >&nbsp;</th>\n",
       "      <th class=\"blank col1\" >&nbsp;</th>\n",
       "      <th class=\"blank col2\" >&nbsp;</th>\n",
       "      <th class=\"blank col3\" >&nbsp;</th>\n",
       "    </tr>\n",
       "  </thead>\n",
       "  <tbody>\n",
       "    <tr>\n",
       "      <th id=\"T_34162_level0_row0\" class=\"row_heading level0 row0\" >Operation Varsity Blues</th>\n",
       "      <th id=\"T_34162_level1_row0\" class=\"row_heading level1 row0\" ><img src=\"images/varsity.png\"></th>\n",
       "      <td id=\"T_34162_row0_col0\" class=\"data row0 col0\" >0.18</td>\n",
       "      <td id=\"T_34162_row0_col1\" class=\"data row0 col1\" >0.99</td>\n",
       "      <td id=\"T_34162_row0_col2\" class=\"data row0 col2\" >0.84</td>\n",
       "      <td id=\"T_34162_row0_col3\" class=\"data row0 col3\" >0.01</td>\n",
       "    </tr>\n",
       "    <tr>\n",
       "      <th id=\"T_34162_level0_row1\" class=\"row_heading level0 row1\" >6 Underground</th>\n",
       "      <th id=\"T_34162_level1_row1\" class=\"row_heading level1 row1\" ><img src=\"images/6.png\"></th>\n",
       "      <td id=\"T_34162_row1_col0\" class=\"data row1 col0\" >0.73</td>\n",
       "      <td id=\"T_34162_row1_col1\" class=\"data row1 col1\" >0.30</td>\n",
       "      <td id=\"T_34162_row1_col2\" class=\"data row1 col2\" >0.69</td>\n",
       "      <td id=\"T_34162_row1_col3\" class=\"data row1 col3\" >0.78</td>\n",
       "    </tr>\n",
       "    <tr>\n",
       "      <th id=\"T_34162_level0_row2\" class=\"row_heading level0 row2\" >Leave the world behind</th>\n",
       "      <th id=\"T_34162_level1_row2\" class=\"row_heading level1 row2\" ><img src=\"images/leave.png\"></th>\n",
       "      <td id=\"T_34162_row2_col0\" class=\"data row2 col0\" >0.36</td>\n",
       "      <td id=\"T_34162_row2_col1\" class=\"data row2 col1\" >0.12</td>\n",
       "      <td id=\"T_34162_row2_col2\" class=\"data row2 col2\" >0.11</td>\n",
       "      <td id=\"T_34162_row2_col3\" class=\"data row2 col3\" >0.04</td>\n",
       "    </tr>\n",
       "  </tbody>\n",
       "</table>\n"
      ],
      "text/plain": [
       "<IPython.core.display.HTML object>"
      ]
     },
     "execution_count": 42,
     "metadata": {},
     "output_type": "execute_result"
    }
   ],
   "source": [
    "pngs = {'Operation Varsity Blues': 'varsity.png', '6 Underground': '6.png', 'Leave the world behind': 'leave.png'}\n",
    "df = pd.DataFrame(\n",
    "    _get_record(title, emb)\n",
    "    for title, emb in samples.items()\n",
    ").set_index(['title', 'video_thumbnail'])        \n",
    "df = df.style.applymap(get_color).format(lambda x: f'{x:.2f}')\n",
    "HTML(df.to_html(escape=False))"
   ]
  },
  {
   "attachments": {},
   "cell_type": "markdown",
   "id": "6a3cc399-f546-4197-8cbf-071ce7ed6d3b",
   "metadata": {},
   "source": [
    "## bring your own C4C embeddings\n",
    "\n",
    "Use [Clip4CLIP](https://github.com/ArrowLuo/CLIP4Clip) to extract video embeddings from your own videos and then apply."
   ]
  },
  {
   "cell_type": "code",
   "execution_count": 25,
   "id": "3d1b3dc0-6a1e-4a38-9d64-1d8467bd499d",
   "metadata": {
    "execution": {
     "iopub.execute_input": "2024-04-24T16:18:01.144671Z",
     "iopub.status.busy": "2024-04-24T16:18:01.144166Z",
     "iopub.status.idle": "2024-04-24T16:18:01.147823Z",
     "shell.execute_reply": "2024-04-24T16:18:01.147172Z",
     "shell.execute_reply.started": "2024-04-24T16:18:01.144641Z"
    }
   },
   "outputs": [],
   "source": [
    "np.random.seed(0)\n",
    "your_emb = np.random.rand(1, 512)  # replace with your own"
   ]
  },
  {
   "cell_type": "code",
   "execution_count": 26,
   "id": "f41d1b6d-2df3-4df3-a807-4cc3af2c0f4f",
   "metadata": {
    "execution": {
     "iopub.execute_input": "2024-04-24T16:18:01.728981Z",
     "iopub.status.busy": "2024-04-24T16:18:01.728377Z",
     "iopub.status.idle": "2024-04-24T16:18:02.332514Z",
     "shell.execute_reply": "2024-04-24T16:18:02.331604Z",
     "shell.execute_reply.started": "2024-04-24T16:18:01.728952Z"
    }
   },
   "outputs": [
    {
     "data": {
      "text/plain": [
       "0.10548243605868816"
      ]
     },
     "execution_count": 26,
     "metadata": {},
     "output_type": "execute_result"
    }
   ],
   "source": [
    "label = 'car-chase'  # pick from any model in `cfg.LABELS`\n",
    "get_model(label=label).predict_proba(your_emb).item()"
   ]
  },
  {
   "attachments": {},
   "cell_type": "markdown",
   "id": "e51aec2e-6a65-4ed8-a46a-5f9f6748e6fd",
   "metadata": {},
   "source": [
    "## apply any model to any shot in the corpus from the Condensed Movie Dataset\n",
    "More details at [this link](https://www.robots.ox.ac.uk/~vgg/data/condensed-movies/)"
   ]
  },
  {
   "cell_type": "code",
   "execution_count": 27,
   "id": "81762de3-c875-4f01-892b-da9c335ef4fb",
   "metadata": {
    "execution": {
     "iopub.execute_input": "2024-04-24T16:18:03.529245Z",
     "iopub.status.busy": "2024-04-24T16:18:03.528611Z",
     "iopub.status.idle": "2024-04-24T16:18:04.588503Z",
     "shell.execute_reply": "2024-04-24T16:18:04.587890Z",
     "shell.execute_reply.started": "2024-04-24T16:18:03.529216Z"
    }
   },
   "outputs": [
    {
     "data": {
      "text/html": [
       "<div>\n",
       "<style scoped>\n",
       "    .dataframe tbody tr th:only-of-type {\n",
       "        vertical-align: middle;\n",
       "    }\n",
       "\n",
       "    .dataframe tbody tr th {\n",
       "        vertical-align: top;\n",
       "    }\n",
       "\n",
       "    .dataframe thead th {\n",
       "        text-align: right;\n",
       "    }\n",
       "</style>\n",
       "<table border=\"1\" class=\"dataframe\">\n",
       "  <thead>\n",
       "    <tr style=\"text-align: right;\">\n",
       "      <th></th>\n",
       "      <th>yt_id</th>\n",
       "      <th>desc</th>\n",
       "      <th>genre</th>\n",
       "      <th>frame_in</th>\n",
       "      <th>frame_out</th>\n",
       "      <th>start</th>\n",
       "      <th>end</th>\n",
       "      <th>fps</th>\n",
       "      <th>cluster_index</th>\n",
       "    </tr>\n",
       "    <tr>\n",
       "      <th>key</th>\n",
       "      <th></th>\n",
       "      <th></th>\n",
       "      <th></th>\n",
       "      <th></th>\n",
       "      <th></th>\n",
       "      <th></th>\n",
       "      <th></th>\n",
       "      <th></th>\n",
       "      <th></th>\n",
       "    </tr>\n",
       "  </thead>\n",
       "  <tbody>\n",
       "    <tr>\n",
       "      <th>HnnBvemHrWA|0</th>\n",
       "      <td>HnnBvemHrWA</td>\n",
       "      <td>Frankie and Johnny - He Just Asked Her Out</td>\n",
       "      <td>Comedy</td>\n",
       "      <td>0</td>\n",
       "      <td>82</td>\n",
       "      <td>0.000000</td>\n",
       "      <td>3.420311</td>\n",
       "      <td>23.974427</td>\n",
       "      <td>8</td>\n",
       "    </tr>\n",
       "    <tr>\n",
       "      <th>gOJJm_cSRds|3987</th>\n",
       "      <td>gOJJm_cSRds</td>\n",
       "      <td>The Wild Bunch - Bank Shootout</td>\n",
       "      <td>Action</td>\n",
       "      <td>3987</td>\n",
       "      <td>4007</td>\n",
       "      <td>166.302203</td>\n",
       "      <td>167.136425</td>\n",
       "      <td>23.974427</td>\n",
       "      <td>6</td>\n",
       "    </tr>\n",
       "    <tr>\n",
       "      <th>mDViU8OSRkA|2222</th>\n",
       "      <td>mDViU8OSRkA</td>\n",
       "      <td>Non-Stop - How's Your Daughter? Scene</td>\n",
       "      <td>NaN</td>\n",
       "      <td>2222</td>\n",
       "      <td>2284</td>\n",
       "      <td>92.675917</td>\n",
       "      <td>95.261833</td>\n",
       "      <td>23.976024</td>\n",
       "      <td>3</td>\n",
       "    </tr>\n",
       "    <tr>\n",
       "      <th>egB-SG97EcI|805</th>\n",
       "      <td>egB-SG97EcI</td>\n",
       "      <td>Kalifornia - I Think I Gotta Kill You Scene</td>\n",
       "      <td>Crime</td>\n",
       "      <td>805</td>\n",
       "      <td>825</td>\n",
       "      <td>33.575190</td>\n",
       "      <td>34.409357</td>\n",
       "      <td>23.976037</td>\n",
       "      <td>0</td>\n",
       "    </tr>\n",
       "    <tr>\n",
       "      <th>uGsWYV2bWAc|1013</th>\n",
       "      <td>uGsWYV2bWAc</td>\n",
       "      <td>Kill Bill: Vol. 1 - The Bride vs. Gogo</td>\n",
       "      <td>Action</td>\n",
       "      <td>1013</td>\n",
       "      <td>1041</td>\n",
       "      <td>42.250542</td>\n",
       "      <td>43.418375</td>\n",
       "      <td>23.976024</td>\n",
       "      <td>7</td>\n",
       "    </tr>\n",
       "  </tbody>\n",
       "</table>\n",
       "</div>"
      ],
      "text/plain": [
       "                        yt_id                                         desc  \\\n",
       "key                                                                          \n",
       "HnnBvemHrWA|0     HnnBvemHrWA   Frankie and Johnny - He Just Asked Her Out   \n",
       "gOJJm_cSRds|3987  gOJJm_cSRds               The Wild Bunch - Bank Shootout   \n",
       "mDViU8OSRkA|2222  mDViU8OSRkA        Non-Stop - How's Your Daughter? Scene   \n",
       "egB-SG97EcI|805   egB-SG97EcI  Kalifornia - I Think I Gotta Kill You Scene   \n",
       "uGsWYV2bWAc|1013  uGsWYV2bWAc       Kill Bill: Vol. 1 - The Bride vs. Gogo   \n",
       "\n",
       "                   genre  frame_in  frame_out       start         end  \\\n",
       "key                                                                     \n",
       "HnnBvemHrWA|0     Comedy         0         82    0.000000    3.420311   \n",
       "gOJJm_cSRds|3987  Action      3987       4007  166.302203  167.136425   \n",
       "mDViU8OSRkA|2222     NaN      2222       2284   92.675917   95.261833   \n",
       "egB-SG97EcI|805    Crime       805        825   33.575190   34.409357   \n",
       "uGsWYV2bWAc|1013  Action      1013       1041   42.250542   43.418375   \n",
       "\n",
       "                        fps  cluster_index  \n",
       "key                                         \n",
       "HnnBvemHrWA|0     23.974427              8  \n",
       "gOJJm_cSRds|3987  23.974427              6  \n",
       "mDViU8OSRkA|2222  23.976024              3  \n",
       "egB-SG97EcI|805   23.976037              0  \n",
       "uGsWYV2bWAc|1013  23.976024              7  "
      ]
     },
     "execution_count": 27,
     "metadata": {},
     "output_type": "execute_result"
    }
   ],
   "source": [
    "df_shots = pd.read_csv(io.PATHS_STATIC.shot_data).set_index('key')\n",
    "df_shots.head()"
   ]
  },
  {
   "attachments": {},
   "cell_type": "markdown",
   "id": "bb5ae078-757a-4c1d-ab21-ddbaab2c03f5",
   "metadata": {},
   "source": [
    "### pick a key from the dataframe above"
   ]
  },
  {
   "cell_type": "code",
   "execution_count": 28,
   "id": "b30b22db-aa12-420c-9e2d-e64c300e5aff",
   "metadata": {
    "execution": {
     "iopub.execute_input": "2024-04-24T16:18:05.572441Z",
     "iopub.status.busy": "2024-04-24T16:18:05.571805Z",
     "iopub.status.idle": "2024-04-24T16:18:05.575349Z",
     "shell.execute_reply": "2024-04-24T16:18:05.574731Z",
     "shell.execute_reply.started": "2024-04-24T16:18:05.572412Z"
    }
   },
   "outputs": [],
   "source": [
    "key = 'HnnBvemHrWA|0'"
   ]
  },
  {
   "cell_type": "code",
   "execution_count": 29,
   "id": "2c547f22-61fa-49a9-ace4-0e73d215f618",
   "metadata": {
    "execution": {
     "iopub.execute_input": "2024-04-24T16:18:06.156529Z",
     "iopub.status.busy": "2024-04-24T16:18:06.155931Z",
     "iopub.status.idle": "2024-04-24T16:18:06.160842Z",
     "shell.execute_reply": "2024-04-24T16:18:06.160237Z",
     "shell.execute_reply.started": "2024-04-24T16:18:06.156499Z"
    }
   },
   "outputs": [
    {
     "data": {
      "text/plain": [
       "0.15079263042877716"
      ]
     },
     "execution_count": 29,
     "metadata": {},
     "output_type": "execute_result"
    }
   ],
   "source": [
    "get_score(label='action', key=key)"
   ]
  },
  {
   "cell_type": "code",
   "execution_count": 30,
   "id": "c71691d3-3421-4b74-ab1e-e37da32d2528",
   "metadata": {
    "execution": {
     "iopub.execute_input": "2024-04-24T16:18:06.725140Z",
     "iopub.status.busy": "2024-04-24T16:18:06.724526Z",
     "iopub.status.idle": "2024-04-24T16:18:07.366689Z",
     "shell.execute_reply": "2024-04-24T16:18:07.365931Z",
     "shell.execute_reply.started": "2024-04-24T16:18:06.725110Z"
    }
   },
   "outputs": [
    {
     "data": {
      "text/plain": [
       "0.8293545496789174"
      ]
     },
     "execution_count": 30,
     "metadata": {},
     "output_type": "execute_result"
    }
   ],
   "source": [
    "get_score(label='closeup', key=key)"
   ]
  },
  {
   "cell_type": "code",
   "execution_count": 31,
   "id": "2ddb686b-4cd7-44cd-83c4-4a87d9f279b4",
   "metadata": {
    "execution": {
     "iopub.execute_input": "2024-04-24T16:18:07.368947Z",
     "iopub.status.busy": "2024-04-24T16:18:07.368171Z",
     "iopub.status.idle": "2024-04-24T16:18:07.375109Z",
     "shell.execute_reply": "2024-04-24T16:18:07.374429Z",
     "shell.execute_reply.started": "2024-04-24T16:18:07.368902Z"
    }
   },
   "outputs": [
    {
     "data": {
      "text/plain": [
       "0.02759443746631655"
      ]
     },
     "execution_count": 31,
     "metadata": {},
     "output_type": "execute_result"
    }
   ],
   "source": [
    "get_score(label='establishing-shots', key=key)"
   ]
  },
  {
   "attachments": {},
   "cell_type": "markdown",
   "id": "30b13fbd-9f36-4d4c-b5ff-d91eec5f53c3",
   "metadata": {},
   "source": [
    "## apply all models to a shot in the corpus"
   ]
  },
  {
   "cell_type": "code",
   "execution_count": 32,
   "id": "3d9996b5-c655-4fd0-8454-d69489518fbe",
   "metadata": {
    "execution": {
     "iopub.execute_input": "2024-04-24T16:18:08.473189Z",
     "iopub.status.busy": "2024-04-24T16:18:08.472662Z",
     "iopub.status.idle": "2024-04-24T16:18:08.476199Z",
     "shell.execute_reply": "2024-04-24T16:18:08.475710Z",
     "shell.execute_reply.started": "2024-04-24T16:18:08.473160Z"
    }
   },
   "outputs": [],
   "source": [
    "def get_link(key: str) -> HTML:\n",
    "    rec = df_shots.loc[key]\n",
    "    link = f'https://youtu.be/{rec.yt_id}?t={int(rec.start)}'\n",
    "    return HTML(f'<a target=\"_blank\" rel=\"noopener noreferrer\" href=\"{link}\">click here to watch</a>')"
   ]
  },
  {
   "cell_type": "code",
   "execution_count": 33,
   "id": "1593eec5-fbd5-4eaa-817e-f29b109df8aa",
   "metadata": {
    "execution": {
     "iopub.execute_input": "2024-04-24T16:18:09.089381Z",
     "iopub.status.busy": "2024-04-24T16:18:09.088766Z",
     "iopub.status.idle": "2024-04-24T16:18:25.917844Z",
     "shell.execute_reply": "2024-04-24T16:18:25.917005Z",
     "shell.execute_reply.started": "2024-04-24T16:18:09.089350Z"
    }
   },
   "outputs": [
    {
     "data": {
      "text/plain": [
       "eye-level                 0.89\n",
       "interior                  0.83\n",
       "closeup                   0.83\n",
       "character-focus           0.75\n",
       "single-shot               0.65\n",
       "static-shot               0.55\n",
       "medium                    0.44\n",
       "fantasy                   0.39\n",
       "object                    0.39\n",
       "low-angle                 0.37\n",
       "drama                     0.34\n",
       "violence                  0.33\n",
       "horror                    0.31\n",
       "over-the-shoulder-shot    0.31\n",
       "day                       0.27\n",
       "scared                    0.22\n",
       "smoking                   0.22\n",
       "anger                     0.20\n",
       "happy                     0.17\n",
       "handheld                  0.16\n",
       "animal                    0.15\n",
       "action                    0.15\n",
       "sad                       0.12\n",
       "tilt-shot                 0.11\n",
       "pan                       0.10\n",
       "insert-shot               0.09\n",
       "cowboy-shot               0.08\n",
       "alcohol                   0.07\n",
       "zoom                      0.07\n",
       "intimacy                  0.06\n",
       "dutch-angle               0.06\n",
       "slow-motion               0.05\n",
       "run                       0.05\n",
       "wide                      0.05\n",
       "fight                     0.05\n",
       "high-angle                0.05\n",
       "two-shot                  0.04\n",
       "group-shot                0.04\n",
       "aerial                    0.03\n",
       "establishing-shots        0.03\n",
       "point-of-view-shot        0.03\n",
       "extreme-close-up          0.02\n",
       "drugs                     0.02\n",
       "golden-hour               0.02\n",
       "sci-fi                    0.02\n",
       "romance                   0.02\n",
       "gore                      0.01\n",
       "laughter                  0.01\n",
       "nudity                    0.01\n",
       "shutter-shot              0.01\n",
       "extreme-wide-shot         0.01\n",
       "car-chase                 0.01\n",
       "jump-scare                0.01\n",
       "overhead-shot             0.01\n",
       "interview                 0.01\n",
       "timelapse                 0.00\n",
       "dtype: float64"
      ]
     },
     "execution_count": 33,
     "metadata": {},
     "output_type": "execute_result"
    }
   ],
   "source": [
    "# sort by score descending\n",
    "pd.Series(get_score_all_labels(key=key)).sort_values(ascending=False).round(2)"
   ]
  },
  {
   "cell_type": "code",
   "execution_count": 34,
   "id": "8796347f-834c-4062-95e4-a3f556ac9fd1",
   "metadata": {
    "execution": {
     "iopub.execute_input": "2024-04-24T16:18:25.923165Z",
     "iopub.status.busy": "2024-04-24T16:18:25.922349Z",
     "iopub.status.idle": "2024-04-24T16:18:26.024421Z",
     "shell.execute_reply": "2024-04-24T16:18:26.023892Z",
     "shell.execute_reply.started": "2024-04-24T16:18:25.923124Z"
    }
   },
   "outputs": [
    {
     "data": {
      "text/html": [
       "<a href=\"https://youtu.be/HnnBvemHrWA?t=0\">click here to watch</a>"
      ],
      "text/plain": [
       "<IPython.core.display.HTML object>"
      ]
     },
     "execution_count": 34,
     "metadata": {},
     "output_type": "execute_result"
    }
   ],
   "source": [
    "# get the link to watch\n",
    "get_link(key=key)"
   ]
  }
 ],
 "metadata": {
  "kernelspec": {
   "display_name": "Python 3.10 (recommended)",
   "language": "python",
   "name": "python310"
  },
  "language_info": {
   "codemirror_mode": {
    "name": "ipython",
    "version": 3
   },
   "file_extension": ".py",
   "mimetype": "text/x-python",
   "name": "python",
   "nbconvert_exporter": "python",
   "pygments_lexer": "ipython3",
   "version": "3.10.14"
  }
 },
 "nbformat": 4,
 "nbformat_minor": 5
}
