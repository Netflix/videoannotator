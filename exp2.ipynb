{
 "cells": [
  {
   "attachments": {},
   "cell_type": "markdown",
   "id": "33a23872-6b85-40c8-baa8-f2a42702b630",
   "metadata": {},
   "source": [
    "# Experiment 2\n",
    "Need to run experiment 1 first"
   ]
  },
  {
   "cell_type": "code",
   "execution_count": 1,
   "id": "dbe1fb03",
   "metadata": {
    "execution": {
     "iopub.execute_input": "2024-02-09T06:58:20.320622Z",
     "iopub.status.busy": "2024-02-09T06:58:20.320375Z",
     "iopub.status.idle": "2024-02-09T06:58:20.721700Z",
     "shell.execute_reply": "2024-02-09T06:58:20.720953Z",
     "shell.execute_reply.started": "2024-02-09T06:58:20.320598Z"
    },
    "tags": []
   },
   "outputs": [],
   "source": [
    "import pathlib\n",
    "import functools\n",
    "import pandas as pd\n",
    "import numpy as np\n",
    "import math\n",
    "import pickle\n",
    "\n",
    "from tqdm.auto import tqdm\n",
    "\n",
    "from videoannotator import data, dp, experiments"
   ]
  },
  {
   "attachments": {},
   "cell_type": "markdown",
   "id": "243bc89c-e52c-4c40-a086-9fa790de4f39",
   "metadata": {},
   "source": [
    "## helpers"
   ]
  },
  {
   "cell_type": "code",
   "execution_count": 2,
   "id": "fb6ab183-2d5e-4b71-9475-ceb7bbf03cbb",
   "metadata": {
    "execution": {
     "iopub.execute_input": "2024-02-09T06:58:20.724968Z",
     "iopub.status.busy": "2024-02-09T06:58:20.724526Z",
     "iopub.status.idle": "2024-02-09T06:58:20.734467Z",
     "shell.execute_reply": "2024-02-09T06:58:20.733913Z",
     "shell.execute_reply.started": "2024-02-09T06:58:20.724943Z"
    },
    "tags": []
   },
   "outputs": [],
   "source": [
    "dps = {\n",
    "    'eps0.1': functools.partial(dp.EpsilonGreedyMean, epsilon=0.1),\n",
    "    'eps0.25': functools.partial(dp.EpsilonGreedyMean, epsilon=0.25),\n",
    "    'eps0.5': functools.partial(dp.EpsilonGreedyMean, epsilon=0.5),\n",
    "    'rr': dp.RoundRobin,\n",
    "    'greedy': dp.GreedyOracle,\n",
    "    'ucb': dp.UCBMean,\n",
    "    'ucb.1': functools.partial(dp.UCBMean, c=1e-1),\n",
    "    # 'ecbwema': dp.UCBEWMA,\n",
    "    # 'eps0.25ewma': functools.partial(dp.EpsilonGreedyEWMA, epsilon=0.25),\n",
    "}\n",
    "\n",
    "@functools.lru_cache(10_000)\n",
    "def run(dp_name, d, label):\n",
    "    dp = dps[dp_name]\n",
    "    try:\n",
    "        return dict(\n",
    "            dp=dp,\n",
    "            d=d,\n",
    "            label=label,\n",
    "            res=dp(label=label, d=d, _seed_base=1).run(n=1_000 // d),\n",
    "        )\n",
    "    except Exception as e:\n",
    "        raise ValueError(f'Error in dp={dp}, d={d}, label={label}: {e}')\n",
    "        \n",
    "def get_best(r):\n",
    "    res = r['res']\n",
    "    return max(\n",
    "        (\n",
    "            (res.average_precision.mean, res.average_precision)\n",
    "            for _, res in res.res_hist\n",
    "        ),\n",
    "        key=lambda x: x[0],\n",
    "    )[1]\n",
    "\n",
    "def get_algo_detes(r):\n",
    "    dp = r['dp']\n",
    "    if dp.__class__ == functools.partial:\n",
    "        return dict(\n",
    "            algo=dp.func.__name__,\n",
    "            kws=dp.keywords,\n",
    "            args=dp.args,\n",
    "        )\n",
    "    else:\n",
    "        return dict(algo=dp.__name__)\n",
    "    \n",
    "def eps(q):\n",
    "    if pd.notnull(q) and 'epsilon' in q:\n",
    "        return q.get('epsilon') == .25\n",
    "        \n",
    "    return True"
   ]
  },
  {
   "attachments": {},
   "cell_type": "markdown",
   "id": "35983077-22a6-4045-87f4-1ed162ddb21a",
   "metadata": {},
   "source": [
    "## run experiment 2"
   ]
  },
  {
   "cell_type": "code",
   "execution_count": 3,
   "id": "a8e9e3e5-e6be-44a2-9144-6abb528b3128",
   "metadata": {
    "execution": {
     "iopub.execute_input": "2024-02-09T06:58:20.737344Z",
     "iopub.status.busy": "2024-02-09T06:58:20.736926Z",
     "iopub.status.idle": "2024-02-09T06:58:25.203956Z",
     "shell.execute_reply": "2024-02-09T06:58:25.203228Z",
     "shell.execute_reply.started": "2024-02-09T06:58:20.737321Z"
    },
    "tags": []
   },
   "outputs": [],
   "source": [
    "# this takes ~20 mins on a machine with 64 CPUs and 64GB RAM\n",
    "path_results_pkl = 'exp2_results.pkl'\n",
    "if not pathlib.Path(path_results_pkl).exists():\n",
    "    # takes a few hours\n",
    "    items = [\n",
    "        (dp_name, d, label)\n",
    "        for i, dp_name in enumerate(dps)\n",
    "        for d in (25,)\n",
    "        for label in sorted(data.cfg.LABELS)\n",
    "    ]\n",
    "    res = [run(*q) for q in tqdm(items)]\n",
    "    pickle.dump(res, open(path_results_pkl, 'wb'))\n",
    "else:\n",
    "    res = pickle.load(open(path_results_pkl, 'rb'))"
   ]
  },
  {
   "attachments": {},
   "cell_type": "markdown",
   "id": "783eb716-826e-449b-9549-ccbf637b2cc7",
   "metadata": {},
   "source": [
    "## analyze"
   ]
  },
  {
   "cell_type": "code",
   "execution_count": 4,
   "id": "137666f0",
   "metadata": {
    "execution": {
     "iopub.execute_input": "2024-02-09T06:58:25.211433Z",
     "iopub.status.busy": "2024-02-09T06:58:25.211089Z",
     "iopub.status.idle": "2024-02-09T06:58:26.310674Z",
     "shell.execute_reply": "2024-02-09T06:58:26.309992Z",
     "shell.execute_reply.started": "2024-02-09T06:58:25.211408Z"
    },
    "tags": []
   },
   "outputs": [],
   "source": [
    "# this object is computed in experiment 1\n",
    "ap_va = pickle.load(open('ap_va_best.pkl', 'rb'))\n",
    "ap_va_best = {k: v['best'] for k, v in ap_va.items()}\n",
    "ap_va_last = {k: v['last'] for k, v in ap_va.items()}\n",
    "\n",
    "df_res = pd.DataFrame(\n",
    "    dict(\n",
    "        d=r['d'],\n",
    "        label=r['label'],\n",
    "        best_idx=r['res'].best_idx,\n",
    "        best_metric=get_best(r),\n",
    "        best_metric_mean=get_best(r).mean,\n",
    "        last_metric=r['res'].last_metric,\n",
    "        last_metric_mean=r['res'].last_metric.mean,\n",
    "        res=r['res'],\n",
    "        after_5=r['res'].res_hist[5][1].average_precision.mean,\n",
    "        after_10=r['res'].res_hist[10][1].average_precision.mean,\n",
    "        **get_algo_detes(r),\n",
    "    )\n",
    "    for r in res\n",
    ")\n",
    "df_res = df_res.assign(\n",
    "    ap_va_best=df_res.label.map(ap_va_best),\n",
    "    ap_va_last=df_res.label.map(ap_va_last),\n",
    ")\n",
    "d = df_res[df_res.algo == 'UCBMean'].groupby(['d', 'label']).apply(lambda x: pd.Series(dict(\n",
    "    best_va=x.ap_va_best.max(),\n",
    "    best_bandit=x.best_metric_mean.max(),\n",
    "    last_va=x.ap_va_last.max(),\n",
    "    last_bandit=x.last_metric_mean.max(),\n",
    ")))\n",
    "d = d.assign(\n",
    "    lift_best=d.best_bandit - d.best_va,\n",
    "    lift_max=d.last_bandit - d.last_va,\n",
    ")\n",
    "dfr = df_res[df_res.kws.apply(eps)]\n",
    "e = dfr[dfr.d == 25].groupby(['algo', 'label']).apply(lambda x: pd.Series(dict(\n",
    "    best_va=x.ap_va_best.max(),\n",
    "    best_bandit=x.best_metric_mean.max(),\n",
    ")))\n",
    "e = e.assign(lift_best=e.best_bandit - e.best_va,)\n",
    "algos = ['RoundRobin', 'GreedyOracle', 'EpsilonGreedyMean', 'UCBMean']\n",
    "cols = ['min', '25%', '50%', '75%', 'max']"
   ]
  },
  {
   "attachments": {},
   "cell_type": "markdown",
   "id": "854e5e4e-0fd0-40db-91e6-e6b766341f87",
   "metadata": {},
   "source": [
    "## table 3"
   ]
  },
  {
   "cell_type": "code",
   "execution_count": 5,
   "id": "fa91f320",
   "metadata": {
    "execution": {
     "iopub.execute_input": "2024-02-09T06:58:26.318997Z",
     "iopub.status.busy": "2024-02-09T06:58:26.318663Z",
     "iopub.status.idle": "2024-02-09T06:58:26.343227Z",
     "shell.execute_reply": "2024-02-09T06:58:26.342682Z",
     "shell.execute_reply.started": "2024-02-09T06:58:26.318973Z"
    },
    "tags": []
   },
   "outputs": [
    {
     "data": {
      "text/html": [
       "<div>\n",
       "<style scoped>\n",
       "    .dataframe tbody tr th:only-of-type {\n",
       "        vertical-align: middle;\n",
       "    }\n",
       "\n",
       "    .dataframe tbody tr th {\n",
       "        vertical-align: top;\n",
       "    }\n",
       "\n",
       "    .dataframe thead th {\n",
       "        text-align: right;\n",
       "    }\n",
       "</style>\n",
       "<table border=\"1\" class=\"dataframe\">\n",
       "  <thead>\n",
       "    <tr style=\"text-align: right;\">\n",
       "      <th></th>\n",
       "      <th>p10</th>\n",
       "      <th>p25</th>\n",
       "      <th>p50</th>\n",
       "      <th>p75</th>\n",
       "      <th>p90</th>\n",
       "    </tr>\n",
       "    <tr>\n",
       "      <th>algo</th>\n",
       "      <th></th>\n",
       "      <th></th>\n",
       "      <th></th>\n",
       "      <th></th>\n",
       "      <th></th>\n",
       "    </tr>\n",
       "  </thead>\n",
       "  <tbody>\n",
       "    <tr>\n",
       "      <th>RoundRobin</th>\n",
       "      <td>-5.9</td>\n",
       "      <td>-0.3</td>\n",
       "      <td>2.5</td>\n",
       "      <td>7.4</td>\n",
       "      <td>15.1</td>\n",
       "    </tr>\n",
       "    <tr>\n",
       "      <th>GreedyOracle</th>\n",
       "      <td>-5.4</td>\n",
       "      <td>0.9</td>\n",
       "      <td>3.9</td>\n",
       "      <td>9.6</td>\n",
       "      <td>16.2</td>\n",
       "    </tr>\n",
       "    <tr>\n",
       "      <th>EpsilonGreedyMean</th>\n",
       "      <td>-6.5</td>\n",
       "      <td>-0.6</td>\n",
       "      <td>2.9</td>\n",
       "      <td>7.6</td>\n",
       "      <td>16.7</td>\n",
       "    </tr>\n",
       "    <tr>\n",
       "      <th>UCBMean</th>\n",
       "      <td>-7.5</td>\n",
       "      <td>-0.2</td>\n",
       "      <td>3.4</td>\n",
       "      <td>9.2</td>\n",
       "      <td>15.9</td>\n",
       "    </tr>\n",
       "  </tbody>\n",
       "</table>\n",
       "</div>"
      ],
      "text/plain": [
       "                   p10  p25  p50  p75   p90\n",
       "algo                                       \n",
       "RoundRobin        -5.9 -0.3  2.5  7.4  15.1\n",
       "GreedyOracle      -5.4  0.9  3.9  9.6  16.2\n",
       "EpsilonGreedyMean -6.5 -0.6  2.9  7.6  16.7\n",
       "UCBMean           -7.5 -0.2  3.4  9.2  15.9"
      ]
     },
     "execution_count": 5,
     "metadata": {},
     "output_type": "execute_result"
    }
   ],
   "source": [
    "ee = e.reset_index().groupby('algo').lift_best.agg(\n",
    "    p10=functools.partial(np.percentile, q=10),\n",
    "    p25=functools.partial(np.percentile, q=25),\n",
    "    p50=functools.partial(np.percentile, q=50),\n",
    "    p75=functools.partial(np.percentile, q=75),\n",
    "    p90=functools.partial(np.percentile, q=90)\n",
    ").loc[algos]\n",
    "(ee * 100).round(1)"
   ]
  },
  {
   "attachments": {},
   "cell_type": "markdown",
   "id": "c0560a99-4f29-4de5-8d42-3b87b632fbd2",
   "metadata": {},
   "source": [
    "## cumulative results\n",
    "Add up the gain from experiment 1 to this gain and compute the median across labels."
   ]
  },
  {
   "cell_type": "code",
   "execution_count": 6,
   "id": "6eac9359-e97c-42c0-9176-e716f5c4246f",
   "metadata": {
    "execution": {
     "iopub.execute_input": "2024-02-09T06:58:26.344418Z",
     "iopub.status.busy": "2024-02-09T06:58:26.343981Z",
     "iopub.status.idle": "2024-02-09T06:58:26.549934Z",
     "shell.execute_reply": "2024-02-09T06:58:26.549376Z",
     "shell.execute_reply.started": "2024-02-09T06:58:26.344394Z"
    },
    "tags": []
   },
   "outputs": [
    {
     "data": {
      "text/plain": [
       "8.3"
      ]
     },
     "execution_count": 6,
     "metadata": {},
     "output_type": "execute_result"
    }
   ],
   "source": [
    "e1 = pickle.load(open('exp1_gain.pkl', 'rb'))\n",
    "f = e.reset_index()\n",
    "e2 = f[f.algo == 'UCBMean'].set_index('label').lift_best.to_dict()\n",
    "comb = pd.Series({\n",
    "    k: e1[k] + e2[k]\n",
    "    for k in e1\n",
    "    if pd.notnull(e1[k]) and pd.notnull(e2[k])\n",
    "})\n",
    "(np.percentile(comb, q=50) * 100).round(1)"
   ]
  }
 ],
 "metadata": {
  "hide_input": false,
  "kernelspec": {
   "display_name": "Python 3 (ipykernel)",
   "language": "python",
   "name": "python3"
  },
  "language_info": {
   "codemirror_mode": {
    "name": "ipython",
    "version": 3
   },
   "file_extension": ".py",
   "mimetype": "text/x-python",
   "name": "python",
   "nbconvert_exporter": "python",
   "pygments_lexer": "ipython3",
   "version": "3.7.12"
  }
 },
 "nbformat": 4,
 "nbformat_minor": 5
}
